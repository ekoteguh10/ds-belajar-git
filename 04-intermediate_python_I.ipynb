{
  "nbformat": 4,
  "nbformat_minor": 0,
  "metadata": {
    "colab": {
      "name": "ekoteguh-intermediate_python_I.ipynb",
      "provenance": [],
      "collapsed_sections": []
    },
    "kernelspec": {
      "name": "python3",
      "display_name": "Python 3"
    },
    "language_info": {
      "name": "python"
    }
  },
  "cells": [
    {
      "cell_type": "markdown",
      "source": [
        "## OOP Access Modifier & Property Decorator"
      ],
      "metadata": {
        "id": "sjRiIQ95b_lU"
      }
    },
    {
      "cell_type": "markdown",
      "source": [
        "1. Buat class motor dgn attribute:\n",
        "  - public: nama\n",
        "  - protected: tipe\n",
        "  - private: harga (integer)\n",
        "2. Dalam class motor, buat method:\n",
        "  - utk get (return) attribute private\n",
        "  - utk set (manipulasi) attribute private, dgn rule:\n",
        "  - Jika harga kurang dari 5jt, maka harga = 10jt\n",
        "3. Buat object dri class motor ini, kemudian panggil attribut private dgn cara yg tepat dlm google colab (.ipynb)"
      ],
      "metadata": {
        "id": "NmfwRPO5cJUg"
      }
    },
    {
      "cell_type": "markdown",
      "source": [
        "### Task 1 dan 2"
      ],
      "metadata": {
        "id": "tCY0XDfjmgo1"
      }
    },
    {
      "cell_type": "code",
      "source": [
        "# Task 1: membuat class Motor dengan attribute nama (public), tipe (protected), dan harga (private, integer)\n",
        "class Motor:\n",
        "\n",
        "  def __init__(self, nama, tipe, harga):\n",
        "    self.nama = nama\n",
        "    self._tipe = tipe\n",
        "    self.__harga = harga\n",
        "\n",
        "  # Task 2a: membuat method untuk get (return) attribute private\n",
        "  @property\n",
        "  def harga(self):\n",
        "    return self.__harga\n",
        "\n",
        "  # Task 2b: membuat method untuk set (manipulasi) attribute private\n",
        "  # dengan rule: Jika harga kurang dari 5jt, maka harga 10jt\n",
        "  @harga.setter\n",
        "  def harga(self, harga):\n",
        "    if harga < 5000000:\n",
        "      self.__harga = 10000000\n",
        "    else:\n",
        "      self.__harga = harga"
      ],
      "metadata": {
        "id": "fwXNope8cI1F"
      },
      "execution_count": 1,
      "outputs": []
    },
    {
      "cell_type": "markdown",
      "source": [
        "### Task 3"
      ],
      "metadata": {
        "id": "cuLJlKRlmpWr"
      }
    },
    {
      "cell_type": "code",
      "source": [
        "# Task 3: Membuat objek dari class Motor dan panggil attribute yang tepat\n",
        "skuter = Motor('Honda Beat', 'matic', 6500000)\n",
        "print(f'Anda telah membeli motor second {skuter.nama} seharga {skuter.harga}')\n",
        "\n",
        "skuter.harga = 4750000\n",
        "print(f'Anda telah membeli motor second {skuter.nama} seharga {skuter.harga}')"
      ],
      "metadata": {
        "colab": {
          "base_uri": "https://localhost:8080/"
        },
        "id": "cBHU844rmxLp",
        "outputId": "4cc84750-2a5a-4c43-ad0c-ee56b5830f09"
      },
      "execution_count": 2,
      "outputs": [
        {
          "output_type": "stream",
          "name": "stdout",
          "text": [
            "Anda telah membeli motor second Honda Beat seharga 6500000\n",
            "Anda telah membeli motor second Honda Beat seharga 10000000\n"
          ]
        }
      ]
    },
    {
      "cell_type": "markdown",
      "source": [
        "## Package & Modules"
      ],
      "metadata": {
        "id": "h69VA7wZe2FH"
      }
    },
    {
      "cell_type": "markdown",
      "source": [
        "1. Buat package luas, di dalamnya ada module lingkaran.py & segitiga.py\n",
        "2. Dalam module lingkaran.py & segitiga.py, buat function luas_lingkaran(jari_jari) & luas_segitiga(alas, tinggi)\n",
        "a. Luas lingkaran: 3.14 * jari-jari * jari-jari\n",
        "b. Luas segitiga: 0.5 * alas * tinggi\n",
        "3. Import & panggil function luas_lingkaran() dan luas_segitiga() dlm google colab (.ipynb)"
      ],
      "metadata": {
        "id": "NF6bjeece3VU"
      }
    },
    {
      "cell_type": "markdown",
      "source": [
        "### Task 1"
      ],
      "metadata": {
        "id": "qitG8cyQqoOJ"
      }
    },
    {
      "cell_type": "code",
      "source": [
        "# Task 1a: membuat package luas\n",
        "!mkdir luas"
      ],
      "metadata": {
        "id": "QxGqtyevfC63"
      },
      "execution_count": 3,
      "outputs": []
    },
    {
      "cell_type": "code",
      "source": [
        "# Task 1b: Di dalamnya ada module lingkaran.py dan segitiga.py\n",
        "!touch luas/lingkaran.py luas/segitiga.py"
      ],
      "metadata": {
        "id": "_s73FerBfRpr"
      },
      "execution_count": 4,
      "outputs": []
    },
    {
      "cell_type": "markdown",
      "source": [
        "### Task 2"
      ],
      "metadata": {
        "id": "faQolb_Rqp73"
      }
    },
    {
      "cell_type": "code",
      "execution_count": 5,
      "metadata": {
        "id": "FOR3R9w1bRF2"
      },
      "outputs": [],
      "source": [
        "# Task 2a: Membuat fungsi luas_lingkaran(jari_jari) untuk file lingkaran.py\n",
        "# dengan rumus luas = 3.14 * jari_jari * jari_jari\n",
        "\n",
        "with open('luas/lingkaran.py', 'w') as writer:\n",
        "  writer.write('def luas_lingkaran(jari_jari):\\n')\n",
        "  writer.write('\\t# cek tipe data harus interger atau float\\n')\n",
        "  writer.write('\\tif isinstance(jari_jari, (int, float)):\\n')\n",
        "  writer.write('\\t\\t# cek value jari_jari harus lebih dari 0\\n')\n",
        "  writer.write('\\t\\tif jari_jari > 0:\\n')\n",
        "  writer.write('\\t\\t\\t\"\"\"Menghitung luas lingkaran\"\"\"\\n')\n",
        "  writer.write('\\t\\t\\treturn 3.14 * jari_jari * jari_jari\\n')\n",
        "  writer.write('\\t\\telse:\\n')\n",
        "  writer.write('\\t\\t\\traise ValueError\\n')\n",
        "  writer.write('\\telse:\\n')\n",
        "  writer.write('\\t\\traise TypeError')"
      ]
    },
    {
      "cell_type": "code",
      "source": [
        "!cat luas/lingkaran.py"
      ],
      "metadata": {
        "colab": {
          "base_uri": "https://localhost:8080/"
        },
        "id": "EeEtwpPc3ZCD",
        "outputId": "679eef7b-4d48-4af6-98d8-8d373cc0c080"
      },
      "execution_count": 6,
      "outputs": [
        {
          "output_type": "stream",
          "name": "stdout",
          "text": [
            "def luas_lingkaran(jari_jari):\n",
            "\t# cek tipe data harus interger atau float\n",
            "\tif isinstance(jari_jari, (int, float)):\n",
            "\t\t# cek value jari_jari harus lebih dari 0\n",
            "\t\tif jari_jari > 0:\n",
            "\t\t\t\"\"\"Menghitung luas lingkaran\"\"\"\n",
            "\t\t\treturn 3.14 * jari_jari * jari_jari\n",
            "\t\telse:\n",
            "\t\t\traise ValueError\n",
            "\telse:\n",
            "\t\traise TypeError"
          ]
        }
      ]
    },
    {
      "cell_type": "code",
      "source": [
        "# Task 2b: Membuat fungsi luas_segitiga(alas, tinggi) untuk file segitiga.py\n",
        "# dengan rumus luas = 0.5 * alas * tinggi\n",
        "\n",
        "with open('luas/segitiga.py', 'w') as writer:\n",
        "  writer.write('def luas_segitiga(alas, tinggi):\\n')\n",
        "  writer.write('\\t# cek tipe data harus interger atau float\\n')\n",
        "  writer.write('\\tif isinstance(alas, (int, float)) and isinstance(tinggi, (int, float)):\\n')\n",
        "  writer.write('\\t\\t# cek value alas dan tinggi harus lebih dari 0\\n')\n",
        "  writer.write('\\t\\tif alas > 0 and tinggi > 0:\\n')\n",
        "  writer.write('\\t\\t\\t\"\"\"Menghitung luas segitiga\"\"\"\\n')\n",
        "  writer.write('\\t\\t\\treturn 0.5 * alas * tinggi\\n')\n",
        "  writer.write('\\t\\telif alas < 0 or tinggi < 0:\\n')\n",
        "  writer.write('\\t\\t\\traise ValueError\\n')\n",
        "  writer.write('\\telse:\\n')\n",
        "  writer.write('\\t\\traise TypeError')"
      ],
      "metadata": {
        "id": "SbSjaqw-bynf"
      },
      "execution_count": 7,
      "outputs": []
    },
    {
      "cell_type": "code",
      "source": [
        "!cat luas/segitiga.py"
      ],
      "metadata": {
        "colab": {
          "base_uri": "https://localhost:8080/"
        },
        "id": "3SE-DQnW32zD",
        "outputId": "3e3547f0-3fbc-4375-a67d-403bbb32e93a"
      },
      "execution_count": 8,
      "outputs": [
        {
          "output_type": "stream",
          "name": "stdout",
          "text": [
            "def luas_segitiga(alas, tinggi):\n",
            "\t# cek tipe data harus interger atau float\n",
            "\tif isinstance(alas, (int, float)) and isinstance(tinggi, (int, float)):\n",
            "\t\t# cek value alas dan tinggi harus lebih dari 0\n",
            "\t\tif alas > 0 and tinggi > 0:\n",
            "\t\t\t\"\"\"Menghitung luas segitiga\"\"\"\n",
            "\t\t\treturn 0.5 * alas * tinggi\n",
            "\t\telif alas < 0 or tinggi < 0:\n",
            "\t\t\traise ValueError\n",
            "\telse:\n",
            "\t\traise TypeError"
          ]
        }
      ]
    },
    {
      "cell_type": "markdown",
      "source": [
        "### Task 3"
      ],
      "metadata": {
        "id": "MaZpsMiHqtpj"
      }
    },
    {
      "cell_type": "code",
      "source": [
        "# Task 3: Import & panggil function luas_lingkaran() dan luas_segitiga()\n",
        "from luas.lingkaran import luas_lingkaran\n",
        "from luas.segitiga import luas_segitiga\n",
        "\n",
        "print(luas_lingkaran(10))\n",
        "print(luas_segitiga(5, 10))"
      ],
      "metadata": {
        "colab": {
          "base_uri": "https://localhost:8080/"
        },
        "id": "y2Cme6aggzQz",
        "outputId": "70520662-3e35-4ea7-a202-f16b9a6e3106"
      },
      "execution_count": 9,
      "outputs": [
        {
          "output_type": "stream",
          "name": "stdout",
          "text": [
            "314.0\n",
            "25.0\n"
          ]
        }
      ]
    },
    {
      "cell_type": "markdown",
      "source": [
        "## Unit Testing"
      ],
      "metadata": {
        "id": "5MwuMn4HhLu3"
      }
    },
    {
      "cell_type": "markdown",
      "source": [
        "1. Buat module test utk lingkaran.py & segitiga.py, dgn skenario bad argument & normal argument masing2 minimal 1 unit test\n",
        "2. Run module test tersebut dlm google colab (.ipynb) menggunakan pytest"
      ],
      "metadata": {
        "id": "1Vs38mtUhQhR"
      }
    },
    {
      "cell_type": "markdown",
      "source": [
        "### Task 1"
      ],
      "metadata": {
        "id": "omrOlf5Gq31c"
      }
    },
    {
      "cell_type": "code",
      "source": [
        "# Task 1a: Membuat module test untuk lingkaran.py dan segitiga.py\n",
        "!touch luas/test_lingkaran.py luas/test_segitiga.py"
      ],
      "metadata": {
        "id": "UVsi8ms8hKta"
      },
      "execution_count": 10,
      "outputs": []
    },
    {
      "cell_type": "code",
      "source": [
        "# Task 1b: Membuat skenario bad argument dan normal argument untuk module test_lingkaran.py\n",
        "with open('luas/test_lingkaran.py', 'w') as writer:\n",
        "  writer.write('# Import library yang dibutuhkan\\n')\n",
        "  writer.write('import pytest\\n')\n",
        "  writer.write('from lingkaran import luas_lingkaran\\n')\n",
        "  writer.write('\\n')\n",
        "  writer.write('# Unit test 1: normal argument\\n')\n",
        "  writer.write('def test_lingkaran_positif_1():\\n')\n",
        "  writer.write('\\t\"\"\"test luas_lingkaran dgn argument normal (int)\"\"\"\\n')\n",
        "  writer.write('\\tassert luas_lingkaran(10) == 314.0\\n')\n",
        "  writer.write('\\n')\n",
        "  writer.write('# Unit test 2: normal argument\\n')\n",
        "  writer.write('def test_lingkaran_positif_2():\\n')\n",
        "  writer.write('\\t\"\"\"test luas_lingkaran dgn argument normal (float)\"\"\"\\n')\n",
        "  writer.write('\\tassert luas_lingkaran(7.5) == 176.625\\n')\n",
        "  writer.write('\\n')\n",
        "  writer.write('# Unit test 3: bad argument\\n')\n",
        "  writer.write('def test_lingkaran_string():\\n')\n",
        "  writer.write('\\t\"\"\"test luas_lingkaran dgn argument string\"\"\"\\n')\n",
        "  writer.write('\\twith pytest.raises(TypeError):\\n')\n",
        "  writer.write('\\t\\tluas_lingkaran(\"10\")')\n",
        "  writer.write('\\n')\n",
        "  writer.write('# Unit test 4: bad argument\\n')\n",
        "  writer.write('def test_lingkaran_negatif():\\n')\n",
        "  writer.write('\\t\"\"\"test luas_lingkaran dgn argument negatif\"\"\"\\n')\n",
        "  writer.write('\\twith pytest.raises(ValueError):\\n')\n",
        "  writer.write('\\t\\tluas_lingkaran(-10)')"
      ],
      "metadata": {
        "id": "CkBmUxUahjTH"
      },
      "execution_count": 11,
      "outputs": []
    },
    {
      "cell_type": "code",
      "source": [
        "!cat luas/test_lingkaran.py"
      ],
      "metadata": {
        "colab": {
          "base_uri": "https://localhost:8080/"
        },
        "id": "Zkqwo20S36GP",
        "outputId": "49b86e9e-dc81-43f8-d487-37c659f70a41"
      },
      "execution_count": 12,
      "outputs": [
        {
          "output_type": "stream",
          "name": "stdout",
          "text": [
            "# Import library yang dibutuhkan\n",
            "import pytest\n",
            "from lingkaran import luas_lingkaran\n",
            "\n",
            "# Unit test 1: normal argument\n",
            "def test_lingkaran_positif_1():\n",
            "\t\"\"\"test luas_lingkaran dgn argument normal (int)\"\"\"\n",
            "\tassert luas_lingkaran(10) == 314.0\n",
            "\n",
            "# Unit test 2: normal argument\n",
            "def test_lingkaran_positif_2():\n",
            "\t\"\"\"test luas_lingkaran dgn argument normal (float)\"\"\"\n",
            "\tassert luas_lingkaran(7.5) == 176.625\n",
            "\n",
            "# Unit test 3: bad argument\n",
            "def test_lingkaran_string():\n",
            "\t\"\"\"test luas_lingkaran dgn argument string\"\"\"\n",
            "\twith pytest.raises(TypeError):\n",
            "\t\tluas_lingkaran(\"10\")\n",
            "# Unit test 4: bad argument\n",
            "def test_lingkaran_negatif():\n",
            "\t\"\"\"test luas_lingkaran dgn argument negatif\"\"\"\n",
            "\twith pytest.raises(ValueError):\n",
            "\t\tluas_lingkaran(-10)"
          ]
        }
      ]
    },
    {
      "cell_type": "code",
      "source": [
        "# Task 1c: Membuat skenario bad argument dan normal argument untuk module test_segitiga.py\n",
        "with open('luas/test_segitiga.py', 'w') as writer:\n",
        "  writer.write('# Import library yang dibutuhkan\\n')\n",
        "  writer.write('import pytest\\n')\n",
        "  writer.write('from segitiga import luas_segitiga\\n')\n",
        "  writer.write('\\n')\n",
        "  writer.write('# Unit test 1: normal argument\\n')\n",
        "  writer.write('def test_segitiga_positif_1():\\n')\n",
        "  writer.write('\\t\"\"\"test luas_segitiga dgn argument normal (int)\"\"\"\\n')\n",
        "  writer.write('\\tassert luas_segitiga(5, 10) == 25.0\\n')\n",
        "  writer.write('\\n')\n",
        "  writer.write('# Unit test 2: normal argument\\n')\n",
        "  writer.write('def test_segitiga_positif_2():\\n')\n",
        "  writer.write('\\t\"\"\"test luas_segitiga dgn argument normal (float)\"\"\"\\n')\n",
        "  writer.write('\\tassert luas_segitiga(4.5, 5.4) == 12.15\\n')\n",
        "  writer.write('\\n')\n",
        "  writer.write('# Unit test 3: bad argument\\n')\n",
        "  writer.write('def test_segitiga_string():\\n')\n",
        "  writer.write('\\t\"\"\"test luas_segitiga dgn argument string\"\"\"\\n')\n",
        "  writer.write('\\twith pytest.raises(TypeError):\\n')\n",
        "  writer.write('\\t\\tluas_segitiga(\"5\", \"10\")')\n",
        "  writer.write('\\n')\n",
        "  writer.write('# Unit test 4: bad argument\\n')\n",
        "  writer.write('def test_segitiga_negatif():\\n')\n",
        "  writer.write('\\t\"\"\"test luas_segitiga dgn argument negatif\"\"\"\\n')\n",
        "  writer.write('\\twith pytest.raises(ValueError):\\n')\n",
        "  writer.write('\\t\\tluas_segitiga(-5, 10)')"
      ],
      "metadata": {
        "id": "waduWOKSkyWh"
      },
      "execution_count": 13,
      "outputs": []
    },
    {
      "cell_type": "code",
      "source": [
        "!cat luas/test_segitiga.py"
      ],
      "metadata": {
        "colab": {
          "base_uri": "https://localhost:8080/"
        },
        "id": "MsmMzQZR39yj",
        "outputId": "a2823d37-8818-4e83-ea29-14a2817f2933"
      },
      "execution_count": 14,
      "outputs": [
        {
          "output_type": "stream",
          "name": "stdout",
          "text": [
            "# Import library yang dibutuhkan\n",
            "import pytest\n",
            "from segitiga import luas_segitiga\n",
            "\n",
            "# Unit test 1: normal argument\n",
            "def test_segitiga_positif_1():\n",
            "\t\"\"\"test luas_segitiga dgn argument normal (int)\"\"\"\n",
            "\tassert luas_segitiga(5, 10) == 25.0\n",
            "\n",
            "# Unit test 2: normal argument\n",
            "def test_segitiga_positif_2():\n",
            "\t\"\"\"test luas_segitiga dgn argument normal (float)\"\"\"\n",
            "\tassert luas_segitiga(4.5, 5.4) == 12.15\n",
            "\n",
            "# Unit test 3: bad argument\n",
            "def test_segitiga_string():\n",
            "\t\"\"\"test luas_segitiga dgn argument string\"\"\"\n",
            "\twith pytest.raises(TypeError):\n",
            "\t\tluas_segitiga(\"5\", \"10\")\n",
            "# Unit test 4: bad argument\n",
            "def test_segitiga_negatif():\n",
            "\t\"\"\"test luas_segitiga dgn argument negatif\"\"\"\n",
            "\twith pytest.raises(ValueError):\n",
            "\t\tluas_segitiga(-5, 10)"
          ]
        }
      ]
    },
    {
      "cell_type": "markdown",
      "source": [
        "### Task 2"
      ],
      "metadata": {
        "id": "T2mnPiDFq6ZM"
      }
    },
    {
      "cell_type": "code",
      "source": [
        "# Task 2a: Run module test menggunakan pytest untuk lingkaran\n",
        "!pytest luas/test_lingkaran.py"
      ],
      "metadata": {
        "colab": {
          "base_uri": "https://localhost:8080/"
        },
        "id": "TqQAxIy0jdOv",
        "outputId": "545cb0da-fb0f-4ad4-d7d9-b545a7c66b15"
      },
      "execution_count": 15,
      "outputs": [
        {
          "output_type": "stream",
          "name": "stdout",
          "text": [
            "\u001b[1m============================= test session starts ==============================\u001b[0m\n",
            "platform linux2 -- Python 2.7.17, pytest-3.6.4, py-1.8.0, pluggy-0.7.1\n",
            "rootdir: /content, inifile:\n",
            "\u001b[1m\rcollecting 0 items                                                             \u001b[0m\u001b[1m\rcollecting 4 items                                                             \u001b[0m\u001b[1m\rcollected 4 items                                                              \u001b[0m\n",
            "\n",
            "luas/test_lingkaran.py ....\u001b[36m                                              [100%]\u001b[0m\n",
            "\n",
            "\u001b[32m\u001b[1m=========================== 4 passed in 0.02 seconds ===========================\u001b[0m\n"
          ]
        }
      ]
    },
    {
      "cell_type": "code",
      "source": [
        "# Task 2b: Run module test menggunakan pytest untuk segitiga\n",
        "!pytest luas/test_segitiga.py"
      ],
      "metadata": {
        "colab": {
          "base_uri": "https://localhost:8080/"
        },
        "id": "5jaG1OBVlNTW",
        "outputId": "f9c9ba3f-73e0-4f4a-cc83-8fb9053f3569"
      },
      "execution_count": 16,
      "outputs": [
        {
          "output_type": "stream",
          "name": "stdout",
          "text": [
            "\u001b[1m============================= test session starts ==============================\u001b[0m\n",
            "platform linux2 -- Python 2.7.17, pytest-3.6.4, py-1.8.0, pluggy-0.7.1\n",
            "rootdir: /content, inifile:\n",
            "\u001b[1m\rcollecting 0 items                                                             \u001b[0m\u001b[1m\rcollecting 4 items                                                             \u001b[0m\u001b[1m\rcollected 4 items                                                              \u001b[0m\n",
            "\n",
            "luas/test_segitiga.py ....\u001b[36m                                               [100%]\u001b[0m\n",
            "\n",
            "\u001b[32m\u001b[1m=========================== 4 passed in 0.02 seconds ===========================\u001b[0m\n"
          ]
        }
      ]
    },
    {
      "cell_type": "markdown",
      "source": [
        "### Task Tambahan\n",
        "\n",
        "Task untuk zip semua modul di dalam luas menjadi `luas.zip` kemudian download file zip tersebut."
      ],
      "metadata": {
        "id": "pmPzY2adn-gI"
      }
    },
    {
      "cell_type": "code",
      "source": [
        "# Zip luas\n",
        "!zip -r /content/luas.zip /content/luas"
      ],
      "metadata": {
        "colab": {
          "base_uri": "https://localhost:8080/"
        },
        "id": "HZMMwKv-mmjc",
        "outputId": "9818152a-358c-4e19-aa17-1149922414e1"
      },
      "execution_count": 17,
      "outputs": [
        {
          "output_type": "stream",
          "name": "stdout",
          "text": [
            "  adding: content/luas/ (stored 0%)\n",
            "  adding: content/luas/test_lingkaran.py (deflated 65%)\n",
            "  adding: content/luas/test_segitiga.py (deflated 64%)\n",
            "  adding: content/luas/lingkaran.pyc (deflated 36%)\n",
            "  adding: content/luas/segitiga.py (deflated 43%)\n",
            "  adding: content/luas/segitiga.pyc (deflated 40%)\n",
            "  adding: content/luas/lingkaran.py (deflated 40%)\n",
            "  adding: content/luas/__pycache__/ (stored 0%)\n",
            "  adding: content/luas/__pycache__/segitiga.cpython-37.pyc (deflated 27%)\n",
            "  adding: content/luas/__pycache__/test_segitiga.cpython-27-PYTEST.pyc (deflated 64%)\n",
            "  adding: content/luas/__pycache__/lingkaran.cpython-37.pyc (deflated 22%)\n",
            "  adding: content/luas/__pycache__/test_lingkaran.cpython-27-PYTEST.pyc (deflated 64%)\n"
          ]
        }
      ]
    },
    {
      "cell_type": "code",
      "source": [
        "# Download luas.zip\n",
        "from google.colab import files\n",
        "files.download(\"/content/luas.zip\")"
      ],
      "metadata": {
        "colab": {
          "base_uri": "https://localhost:8080/",
          "height": 17
        },
        "id": "vvIIK_7dm-qa",
        "outputId": "b838ea0b-a24c-41d2-ce4b-e5b1a77933e7"
      },
      "execution_count": 18,
      "outputs": [
        {
          "output_type": "display_data",
          "data": {
            "application/javascript": [
              "\n",
              "    async function download(id, filename, size) {\n",
              "      if (!google.colab.kernel.accessAllowed) {\n",
              "        return;\n",
              "      }\n",
              "      const div = document.createElement('div');\n",
              "      const label = document.createElement('label');\n",
              "      label.textContent = `Downloading \"${filename}\": `;\n",
              "      div.appendChild(label);\n",
              "      const progress = document.createElement('progress');\n",
              "      progress.max = size;\n",
              "      div.appendChild(progress);\n",
              "      document.body.appendChild(div);\n",
              "\n",
              "      const buffers = [];\n",
              "      let downloaded = 0;\n",
              "\n",
              "      const channel = await google.colab.kernel.comms.open(id);\n",
              "      // Send a message to notify the kernel that we're ready.\n",
              "      channel.send({})\n",
              "\n",
              "      for await (const message of channel.messages) {\n",
              "        // Send a message to notify the kernel that we're ready.\n",
              "        channel.send({})\n",
              "        if (message.buffers) {\n",
              "          for (const buffer of message.buffers) {\n",
              "            buffers.push(buffer);\n",
              "            downloaded += buffer.byteLength;\n",
              "            progress.value = downloaded;\n",
              "          }\n",
              "        }\n",
              "      }\n",
              "      const blob = new Blob(buffers, {type: 'application/binary'});\n",
              "      const a = document.createElement('a');\n",
              "      a.href = window.URL.createObjectURL(blob);\n",
              "      a.download = filename;\n",
              "      div.appendChild(a);\n",
              "      a.click();\n",
              "      div.remove();\n",
              "    }\n",
              "  "
            ],
            "text/plain": [
              "<IPython.core.display.Javascript object>"
            ]
          },
          "metadata": {}
        },
        {
          "output_type": "display_data",
          "data": {
            "application/javascript": [
              "download(\"download_c3d4e94a-46bd-4029-b325-9248ff4d6479\", \"luas.zip\", 6227)"
            ],
            "text/plain": [
              "<IPython.core.display.Javascript object>"
            ]
          },
          "metadata": {}
        }
      ]
    }
  ]
}